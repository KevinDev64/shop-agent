{
 "cells": [
  {
   "cell_type": "markdown",
   "metadata": {},
   "source": [
    "# Импортируем библиотеки и ключ openai из файла token"
   ]
  },
  {
   "cell_type": "code",
   "execution_count": 1,
   "metadata": {},
   "outputs": [],
   "source": [
    "import os\n",
    "import langchain\n",
    "from langchain.text_splitter import RecursiveCharacterTextSplitter, CharacterTextSplitter\n",
    "from langchain.embeddings.openai import OpenAIEmbeddings\n",
    "from langchain.document_loaders import TextLoader\n",
    "from langchain.document_loaders import DirectoryLoader\n",
    "from langchain.vectorstores import Chroma\n",
    "from langchain.prompts import PromptTemplate\n",
    "from langchain.chat_models import ChatOpenAI\n",
    "from langchain.chains import RetrievalQA\n",
    "import warnings\n",
    "\n",
    "token_file = open(\"../utils/token.txt\", \"r\")\n",
    "token = token_file.readline()\n",
    "token_file.close()\n",
    "\n",
    "os.environ[\"OPENAI_API_KEY\"] = token\n",
    "\n",
    "number_of_goods = 6"
   ]
  },
  {
   "cell_type": "markdown",
   "metadata": {},
   "source": [
    "# Деление текста на фрагменты"
   ]
  },
  {
   "cell_type": "code",
   "execution_count": 2,
   "metadata": {},
   "outputs": [
    {
     "data": {
      "text/plain": [
       "[Document(page_content='отличная кофемашина, бюджетная для семьи 2 человека, простая в использовании.', metadata={'source': '../input/plus1.txt'}),\n",
       " Document(page_content='\"1. Весьма удобно, после рожка - исчезли россыпи молотого кофе по всей кухне.', metadata={'source': '../input/plus1.txt'}),\n",
       " Document(page_content='\\n2. Имеется нормальный капучинатор, но я не пользовался еще, судя по отзывам качество посредственное, но его хотя бы не надо так тщательно вымывать после каждого использования, баклашку с молоком отцепили и поставили в холодильник, пениться будет лучше.', metadata={'source': '../input/plus1.txt'}),\n",
       " Document(page_content='\\n3. Несмотря на черный цвет - материалы не маркие и раз в неделю, можно просто стереть пыль даже сухой тряпкой.', metadata={'source': '../input/plus1.txt'}),\n",
       " Document(page_content='\\n4. Вместимости под зерна кофе хватает на дня 3-4, а лоток с водой и жмыхом примерно раз в сутки чищу.\"', metadata={'source': '../input/plus1.txt'}),\n",
       " Document(page_content='Отлично готовит кофе.\\nВкусный кофе\\nКруто варит кофе, лучше чем баристо!', metadata={'source': '../input/plus1.txt'}),\n",
       " Document(page_content='\\nавтоматический капучинатор, большой выбор по настройке крепости и объему кофе, простота в обслуживании (легко моется стакан капучинатора, нет дурацкий шлангов, носиков и т.д)', metadata={'source': '../input/plus1.txt'}),\n",
       " Document(page_content='\\nВкусный кофе. Старая машина была более шумная. Шикарная пенка. Все настроила под себя с легкостью. Места занимает немного на моей кухне.', metadata={'source': '../input/plus1.txt'}),\n",
       " Document(page_content='\\nОчень легкая в использовании и обслуживании. Во-первых легкоразборный и легкомоющийся капучинатор, во-вторых - собственный фильтр, гарантирующий минимальное образование накипи. Легко доливать воду,молоко. Легко мыть.', metadata={'source': '../input/plus1.txt'}),\n",
       " Document(page_content='Вкусно готовит кофе на работе даже на поганой водопроводной воде (стоит фильтр).', metadata={'source': '../input/plus1.txt'}),\n",
       " Document(page_content='Супер машинка, варит хороший кофе, вкусный горячий, все как надо\\n\"- Быстро', metadata={'source': '../input/plus1.txt'}),\n",
       " Document(page_content='- Просто', metadata={'source': '../input/plus1.txt'}),\n",
       " Document(page_content='- Удобно\"\\nВарит кофе отлично, быстро, легко моется\\nНадёжная,  лёгкая в освоении и эксплуатации', metadata={'source': '../input/plus1.txt'}),\n",
       " Document(page_content='Встроенная кофемолка, прост в использовании\\nнедорого\\nВкусный кофе', metadata={'source': '../input/plus1.txt'}),\n",
       " Document(page_content='Достойный внешний вид, сравнительно небольшие размеры, варит хорошо', metadata={'source': '../input/plus1.txt'}),\n",
       " Document(page_content='\\nВарит кофе вкусный кофе , фильтр для воды что идёт в комплекте видимо даёт эффект. В целом отличный аппарат пока что всё радует .', metadata={'source': '../input/plus1.txt'}),\n",
       " Document(page_content='Красивая, простая в использовании, вкусно готовит КОФЕ!\\nудобно, кофе делает быстро,', metadata={'source': '../input/plus1.txt'}),\n",
       " Document(page_content='Красивая , довольно тихая, простое обслуживание, неплохой кофе', metadata={'source': '../input/plus1.txt'}),\n",
       " Document(page_content='Автоматический капучинатор, хорошая пенка.', metadata={'source': '../input/plus1.txt'}),\n",
       " Document(page_content='\"Хорошее качество сборки, производитель Румыния, не Китай.', metadata={'source': '../input/plus1.txt'}),\n",
       " Document(page_content='Автоматический капучинатор.\\n\\nВкусный капучино, не плохой кофе.\\n\\nДизайн.', metadata={'source': '../input/plus1.txt'}),\n",
       " Document(page_content='Легко моется и обслуживается.', metadata={'source': '../input/plus1.txt'}),\n",
       " Document(page_content='Плотные таблетки из жмыха.\"\\nВарит хороший кофе. Капучинатор встроенный.\\nОтличная кофемашина.', metadata={'source': '../input/plus1.txt'}),\n",
       " Document(page_content='Отличная кофемашина.\\n\"Варит вкусный кофе.', metadata={'source': '../input/plus1.txt'}),\n",
       " Document(page_content='Хорошая пенка.\\n\\nПростая в использовании.\\n\\nУдобно мыть.', metadata={'source': '../input/plus1.txt'}),\n",
       " Document(page_content='Не требует постоянного обслуживания.\"\\nВ принципе всего достаточно. Не сказал бы что шумит сильно.', metadata={'source': '../input/plus1.txt'}),\n",
       " Document(page_content='-\\nХороший кофе, когда разобрался легка в использовании, очень просто мыть.', metadata={'source': '../input/plus1.txt'}),\n",
       " Document(page_content='Автоматический капучинатор - очень удобно!', metadata={'source': '../input/plus1.txt'}),\n",
       " Document(page_content='\\n\"Вкусный кофе, различные варианты кофе. регулировка помола.  Использование молотого и зернового кофе.', metadata={'source': '../input/plus1.txt'}),\n",
       " Document(page_content='\"\\nЭто первая домашняя кофемашина.\\nНадежная, удобная', metadata={'source': '../input/plus1.txt'}),\n",
       " Document(page_content='компактная, капучинатор автоматический и легко снимается. регулировка высоты под разные кружки.', metadata={'source': '../input/plus1.txt'}),\n",
       " Document(page_content='Ну однозначно, хороший аппарат для обычного пользователя\\nОтличная кофемашина', metadata={'source': '../input/plus1.txt'}),\n",
       " Document(page_content='\\nОтличная техника! Все устраивает и внешне и технически! Очень рады приобретением! Огромное спасибо!', metadata={'source': '../input/plus1.txt'}),\n",
       " Document(page_content='Хороший кофе\\nВсё супер, о покупки несколько не пожалел.\\nПрост в использовании', metadata={'source': '../input/plus1.txt'}),\n",
       " Document(page_content='\"Полный автомат, включая капучино.', metadata={'source': '../input/plus1.txt'}),\n",
       " Document(page_content='Простота очистки.', metadata={'source': '../input/plus1.txt'}),\n",
       " Document(page_content='Стильный внешний вид.\"\\nАвтоматический капучинатор\\nвкусный кофе', metadata={'source': '../input/plus1.txt'}),\n",
       " Document(page_content='Исправно работает, варит вкусный кофе.\\nВсе отлично! Готовит замечательный кофе.\\nЦена', metadata={'source': '../input/plus1.txt'}),\n",
       " Document(page_content='Надежность, простота чистки и обслуживания.', metadata={'source': '../input/plus1.txt'}),\n",
       " Document(page_content='\\nСамый необходимый функционал для дома.Очень доволен..Есть небольшие нюансы как и с любой техникой. но на все дело привычки. В общем без нареканий', metadata={'source': '../input/plus1.txt'}),\n",
       " Document(page_content='Вкусный кофе, красивый внешний вид\\nКачественная, хорошая кофемашина\\nХорошо готовит латте', metadata={'source': '../input/plus1.txt'}),\n",
       " Document(page_content='\\nстабильная повторяемость качества результата. 3 главных вида кофе она умеет на отлично, и делает их довольно быстро. крышка зарнового бака защищена резиночкой, что не даст зернам терять аромат(так быстро). копрус выполнен из качественного и крепкого пластика, чтото там отломать будет нереально.', metadata={'source': '../input/plus1.txt'}),\n",
       " Document(page_content='\\nПользуемся более месяца , результат превосходный , за это время использовано более 3 кг зернового кофе, капучино прекрасный , пена плотная и держится очень долго. Удобно настроили индивидуальный объем напитка, наслаждаемся ароматным кофе каждый день теперь.', metadata={'source': '../input/plus1.txt'}),\n",
       " Document(page_content='Отличная кофемашина за свои деньги, кофе получается как надо. За свои деньги хороший вариант\\n-', metadata={'source': '../input/plus1.txt'}),\n",
       " Document(page_content='\\nПростота в использовании. Небольшие габариты. Варит вкусный кофе. Размер порции достаточный есть регулировка. Выходит кофе горячий', metadata={'source': '../input/plus1.txt'}),\n",
       " Document(page_content='внешний вид', metadata={'source': '../input/plus1.txt'}),\n",
       " Document(page_content='готовность кофе', metadata={'source': '../input/plus1.txt'}),\n",
       " Document(page_content='легкость в использовании\"\\nОтличная кофемашина', metadata={'source': '../input/plus1.txt'}),\n",
       " Document(page_content='\\nОчень вкусный кофе, можно регулировать и температуру (я не пью кипяток), и максимальное количество максимального количества (кружка 250, примерно 230 максимально) и таймер выключения. Для первой машины пушка бомба.', metadata={'source': '../input/plus1.txt'}),\n",
       " Document(page_content='отличная кофемашина, бюджетная для семьи 2 человека, простая в использовании.', metadata={'source': '../input/plus1.txt'}),\n",
       " Document(page_content='1. Весьма удобно, после рожка - исчезли россыпи молотого кофе по всей кухне.', metadata={'source': '../input/plus1.txt'}),\n",
       " Document(page_content='\\n2. Имеется нормальный капучинатор, но я не пользовался еще, судя по отзывам качество посредственное, но его хотя бы не надо так тщательно вымывать после каждого использования, баклашку с молоком отцепили и поставили в холодильник, пениться будет лучше.', metadata={'source': '../input/plus1.txt'}),\n",
       " Document(page_content='\\n3. Несмотря на черный цвет - материалы не маркие и раз в неделю, можно просто стереть пыль даже сухой тряпкой.', metadata={'source': '../input/plus1.txt'}),\n",
       " Document(page_content='\\n4. Вместимости под зерна кофе хватает на дня 3-4, а лоток с водой и жмыхом примерно раз в сутки чищу.\"', metadata={'source': '../input/plus1.txt'}),\n",
       " Document(page_content='Отлично готовит кофе.\\nВкусный кофе\\nКруто варит кофе, лучше чем баристо!', metadata={'source': '../input/plus1.txt'}),\n",
       " Document(page_content='\\nавтоматический капучинатор, большой выбор по настройке крепости и объему кофе, простота в обслуживании (легко моется стакан капучинатора, нет дурацкий шлангов, носиков и т.д)', metadata={'source': '../input/plus1.txt'}),\n",
       " Document(page_content='\\nВкусный кофе. Старая машина была более шумная. Шикарная пенка. Все настроила под себя с легкостью. Места занимает немного на моей кухне.', metadata={'source': '../input/plus1.txt'})]"
      ]
     },
     "execution_count": 2,
     "metadata": {},
     "output_type": "execute_result"
    }
   ],
   "source": [
    "from langchain.text_splitter import RecursiveCharacterTextSplitter, CharacterTextSplitter\n",
    "\n",
    "\n",
    "# splitter = RecursiveCharacterTextSplitter(\n",
    "#     chunk_size=100,\n",
    "#     chunk_overlap=0,\n",
    "#     separators = ['. ', \"\\n\"]\n",
    "# )\n",
    "# splitted_data = splitter.split_text(coffee_zero)\n",
    "# splitted_data\n",
    "path = '../input/'\n",
    "text_loader_kwargs={'autodetect_encoding': True}\n",
    "loader = DirectoryLoader(path, glob=\"plus1.txt\", loader_cls=TextLoader,\n",
    "                         loader_kwargs=text_loader_kwargs)\n",
    "docs = loader.load()\n",
    "\n",
    "splitter = RecursiveCharacterTextSplitter(\n",
    "    chunk_size=100,\n",
    "    chunk_overlap=0,\n",
    "    separators=[\"\\n\\n\", \"\\n\", \"(?<=\\. )\"]\n",
    ")\n",
    "splitted_texts = splitter.split_documents(docs)\n",
    "splitted_texts"
   ]
  },
  {
   "cell_type": "markdown",
   "metadata": {},
   "source": [
    "# Сохраняем БД, а потом пробуем прочитать :)"
   ]
  },
  {
   "cell_type": "code",
   "execution_count": 3,
   "metadata": {},
   "outputs": [
    {
     "name": "stderr",
     "output_type": "stream",
     "text": [
      "/Users/kevin/anaconda3/envs/shop-agent/lib/python3.9/site-packages/langchain_core/_api/deprecation.py:117: LangChainDeprecationWarning: The class `langchain_community.embeddings.openai.OpenAIEmbeddings` was deprecated in langchain-community 0.1.0 and will be removed in 0.2.0. An updated version of the class exists in the langchain-openai package and should be used instead. To use it run `pip install -U langchain-openai` and import as `from langchain_openai import OpenAIEmbeddings`.\n",
      "  warn_deprecated(\n"
     ]
    },
    {
     "name": "stdout",
     "output_type": "stream",
     "text": [
      "57\n"
     ]
    }
   ],
   "source": [
    "directory = ''\n",
    "embedding = OpenAIEmbeddings()\n",
    "\n",
    "vectordb = Chroma.from_documents(\n",
    "    documents=splitted_texts,\n",
    "    embedding=embedding,\n",
    "    persist_directory=directory\n",
    ")\n",
    "\n",
    "print(vectordb._collection.count()) # Проверка\n",
    "vectordb.persist() # Пишем\n",
    "\n",
    "# # Читаем\n",
    "# vectordb = Chroma(\n",
    "#     persist_directory=directory,\n",
    "#     embedding_function=embedding\n",
    "# )\n",
    "# print(vectordb._collection.count()) # Проверка"
   ]
  },
  {
   "cell_type": "markdown",
   "metadata": {},
   "source": [
    "# Пишем ответ с помощью GPT"
   ]
  },
  {
   "cell_type": "code",
   "execution_count": 4,
   "metadata": {},
   "outputs": [
    {
     "name": "stderr",
     "output_type": "stream",
     "text": [
      "Number of requested results 65 is greater than number of elements in index 57, updating n_results = 57\n"
     ]
    },
    {
     "name": "stdout",
     "output_type": "stream",
     "text": [
      "{'query': 'Расскажи достоинства этой кофемашины',\n",
      " 'result': 'Данная кофемашина имеет следующие достоинства:\\n'\n",
      "           '\\n'\n",
      "           '1. Варит вкусный кофе с отличной пенкой.\\n'\n",
      "           '2. Легкая в использовании и освоении.\\n'\n",
      "           '3. Быстро готовит кофе.\\n'\n",
      "           '4. Легко моется и обслуживается.\\n'\n",
      "           '5. Надежная и качественная.\\n'\n",
      "           '6. Встроенная кофемолка для использования свежих зерен.\\n'\n",
      "           '7. Возможность настройки крепости и объема кофе.\\n'\n",
      "           '8. Автоматический капучинатор для приготовления капучино.\\n'\n",
      "           '9. Компактный размер, занимает немного места на кухне.\\n'\n",
      "           '10. Простой в использовании и обслуживании.\\n'\n",
      "           '11. Регулировка температуры и объема кофе.\\n'\n",
      "           '12. Долговечность и надежность.\\n',\n",
      " 'source_documents': [Document(page_content='Отличная кофемашина.\\n\"Варит вкусный кофе.', metadata={'source': '../input/plus1.txt'}),\n",
      "                      Document(page_content='Ну однозначно, хороший аппарат для обычного пользователя\\nОтличная кофемашина', metadata={'source': '../input/plus1.txt'}),\n",
      "                      Document(page_content='Отличная кофемашина за свои деньги, кофе получается как надо. За свои деньги хороший вариант\\n-', metadata={'source': '../input/plus1.txt'}),\n",
      "                      Document(page_content='легкость в использовании\"\\nОтличная кофемашина', metadata={'source': '../input/plus1.txt'}),\n",
      "                      Document(page_content='- Удобно\"\\nВарит кофе отлично, быстро, легко моется\\nНадёжная,  лёгкая в освоении и эксплуатации', metadata={'source': '../input/plus1.txt'}),\n",
      "                      Document(page_content='\\nВкусный кофе. Старая машина была более шумная. Шикарная пенка. Все настроила под себя с легкостью. Места занимает немного на моей кухне.', metadata={'source': '../input/plus1.txt'}),\n",
      "                      Document(page_content='\\nВкусный кофе. Старая машина была более шумная. Шикарная пенка. Все настроила под себя с легкостью. Места занимает немного на моей кухне.', metadata={'source': '../input/plus1.txt'}),\n",
      "                      Document(page_content='Плотные таблетки из жмыха.\"\\nВарит хороший кофе. Капучинатор встроенный.\\nОтличная кофемашина.', metadata={'source': '../input/plus1.txt'}),\n",
      "                      Document(page_content='Встроенная кофемолка, прост в использовании\\nнедорого\\nВкусный кофе', metadata={'source': '../input/plus1.txt'}),\n",
      "                      Document(page_content='Вкусный кофе, красивый внешний вид\\nКачественная, хорошая кофемашина\\nХорошо готовит латте', metadata={'source': '../input/plus1.txt'}),\n",
      "                      Document(page_content='отличная кофемашина, бюджетная для семьи 2 человека, простая в использовании.', metadata={'source': '../input/plus1.txt'}),\n",
      "                      Document(page_content='отличная кофемашина, бюджетная для семьи 2 человека, простая в использовании.', metadata={'source': '../input/plus1.txt'}),\n",
      "                      Document(page_content='\\nВарит кофе вкусный кофе , фильтр для воды что идёт в комплекте видимо даёт эффект. В целом отличный аппарат пока что всё радует .', metadata={'source': '../input/plus1.txt'}),\n",
      "                      Document(page_content='Отлично готовит кофе.\\nВкусный кофе\\nКруто варит кофе, лучше чем баристо!', metadata={'source': '../input/plus1.txt'}),\n",
      "                      Document(page_content='\"\\nЭто первая домашняя кофемашина.\\nНадежная, удобная', metadata={'source': '../input/plus1.txt'}),\n",
      "                      Document(page_content='Отлично готовит кофе.\\nВкусный кофе\\nКруто варит кофе, лучше чем баристо!', metadata={'source': '../input/plus1.txt'}),\n",
      "                      Document(page_content='Автоматический капучинатор.\\n\\nВкусный капучино, не плохой кофе.\\n\\nДизайн.', metadata={'source': '../input/plus1.txt'}),\n",
      "                      Document(page_content='Хороший кофе\\nВсё супер, о покупки несколько не пожалел.\\nПрост в использовании', metadata={'source': '../input/plus1.txt'}),\n",
      "                      Document(page_content='Супер машинка, варит хороший кофе, вкусный горячий, все как надо\\n\"- Быстро', metadata={'source': '../input/plus1.txt'}),\n",
      "                      Document(page_content='готовность кофе', metadata={'source': '../input/plus1.txt'}),\n",
      "                      Document(page_content='\\nстабильная повторяемость качества результата. 3 главных вида кофе она умеет на отлично, и делает их довольно быстро. крышка зарнового бака защищена резиночкой, что не даст зернам терять аромат(так быстро). копрус выполнен из качественного и крепкого пластика, чтото там отломать будет нереально.', metadata={'source': '../input/plus1.txt'}),\n",
      "                      Document(page_content='Красивая , довольно тихая, простое обслуживание, неплохой кофе', metadata={'source': '../input/plus1.txt'}),\n",
      "                      Document(page_content='Красивая, простая в использовании, вкусно готовит КОФЕ!\\nудобно, кофе делает быстро,', metadata={'source': '../input/plus1.txt'}),\n",
      "                      Document(page_content='\\nавтоматический капучинатор, большой выбор по настройке крепости и объему кофе, простота в обслуживании (легко моется стакан капучинатора, нет дурацкий шлангов, носиков и т.д)', metadata={'source': '../input/plus1.txt'}),\n",
      "                      Document(page_content='\\nавтоматический капучинатор, большой выбор по настройке крепости и объему кофе, простота в обслуживании (легко моется стакан капучинатора, нет дурацкий шлангов, носиков и т.д)', metadata={'source': '../input/plus1.txt'}),\n",
      "                      Document(page_content='\\nОчень вкусный кофе, можно регулировать и температуру (я не пью кипяток), и максимальное количество максимального количества (кружка 250, примерно 230 максимально) и таймер выключения. Для первой машины пушка бомба.', metadata={'source': '../input/plus1.txt'}),\n",
      "                      Document(page_content='\\nПростота в использовании. Небольшие габариты. Варит вкусный кофе. Размер порции достаточный есть регулировка. Выходит кофе горячий', metadata={'source': '../input/plus1.txt'}),\n",
      "                      Document(page_content='Стильный внешний вид.\"\\nАвтоматический капучинатор\\nвкусный кофе', metadata={'source': '../input/plus1.txt'}),\n",
      "                      Document(page_content='Исправно работает, варит вкусный кофе.\\nВсе отлично! Готовит замечательный кофе.\\nЦена', metadata={'source': '../input/plus1.txt'}),\n",
      "                      Document(page_content='\\n\"Вкусный кофе, различные варианты кофе. регулировка помола.  Использование молотого и зернового кофе.', metadata={'source': '../input/plus1.txt'}),\n",
      "                      Document(page_content='\\nПользуемся более месяца , результат превосходный , за это время использовано более 3 кг зернового кофе, капучино прекрасный , пена плотная и держится очень долго. Удобно настроили индивидуальный объем напитка, наслаждаемся ароматным кофе каждый день теперь.', metadata={'source': '../input/plus1.txt'}),\n",
      "                      Document(page_content='-\\nХороший кофе, когда разобрался легка в использовании, очень просто мыть.', metadata={'source': '../input/plus1.txt'}),\n",
      "                      Document(page_content='Вкусно готовит кофе на работе даже на поганой водопроводной воде (стоит фильтр).', metadata={'source': '../input/plus1.txt'}),\n",
      "                      Document(page_content='\\nОтличная техника! Все устраивает и внешне и технически! Очень рады приобретением! Огромное спасибо!', metadata={'source': '../input/plus1.txt'}),\n",
      "                      Document(page_content='\\n4. Вместимости под зерна кофе хватает на дня 3-4, а лоток с водой и жмыхом примерно раз в сутки чищу.\"', metadata={'source': '../input/plus1.txt'}),\n",
      "                      Document(page_content='\\n4. Вместимости под зерна кофе хватает на дня 3-4, а лоток с водой и жмыхом примерно раз в сутки чищу.\"', metadata={'source': '../input/plus1.txt'}),\n",
      "                      Document(page_content='Надежность, простота чистки и обслуживания.', metadata={'source': '../input/plus1.txt'}),\n",
      "                      Document(page_content='Автоматический капучинатор, хорошая пенка.', metadata={'source': '../input/plus1.txt'}),\n",
      "                      Document(page_content='1. Весьма удобно, после рожка - исчезли россыпи молотого кофе по всей кухне.', metadata={'source': '../input/plus1.txt'}),\n",
      "                      Document(page_content='\"1. Весьма удобно, после рожка - исчезли россыпи молотого кофе по всей кухне.', metadata={'source': '../input/plus1.txt'}),\n",
      "                      Document(page_content='Хорошая пенка.\\n\\nПростая в использовании.\\n\\nУдобно мыть.', metadata={'source': '../input/plus1.txt'}),\n",
      "                      Document(page_content='Достойный внешний вид, сравнительно небольшие размеры, варит хорошо', metadata={'source': '../input/plus1.txt'}),\n",
      "                      Document(page_content='\\nСамый необходимый функционал для дома.Очень доволен..Есть небольшие нюансы как и с любой техникой. но на все дело привычки. В общем без нареканий', metadata={'source': '../input/plus1.txt'}),\n",
      "                      Document(page_content='\\nОчень легкая в использовании и обслуживании. Во-первых легкоразборный и легкомоющийся капучинатор, во-вторых - собственный фильтр, гарантирующий минимальное образование накипи. Легко доливать воду,молоко. Легко мыть.', metadata={'source': '../input/plus1.txt'}),\n",
      "                      Document(page_content='Автоматический капучинатор - очень удобно!', metadata={'source': '../input/plus1.txt'}),\n",
      "                      Document(page_content='Не требует постоянного обслуживания.\"\\nВ принципе всего достаточно. Не сказал бы что шумит сильно.', metadata={'source': '../input/plus1.txt'}),\n",
      "                      Document(page_content='\"Хорошее качество сборки, производитель Румыния, не Китай.', metadata={'source': '../input/plus1.txt'}),\n",
      "                      Document(page_content='\\n2. Имеется нормальный капучинатор, но я не пользовался еще, судя по отзывам качество посредственное, но его хотя бы не надо так тщательно вымывать после каждого использования, баклашку с молоком отцепили и поставили в холодильник, пениться будет лучше.', metadata={'source': '../input/plus1.txt'}),\n",
      "                      Document(page_content='\\n2. Имеется нормальный капучинатор, но я не пользовался еще, судя по отзывам качество посредственное, но его хотя бы не надо так тщательно вымывать после каждого использования, баклашку с молоком отцепили и поставили в холодильник, пениться будет лучше.', metadata={'source': '../input/plus1.txt'}),\n",
      "                      Document(page_content='компактная, капучинатор автоматический и легко снимается. регулировка высоты под разные кружки.', metadata={'source': '../input/plus1.txt'}),\n",
      "                      Document(page_content='\"Полный автомат, включая капучино.', metadata={'source': '../input/plus1.txt'}),\n",
      "                      Document(page_content='Легко моется и обслуживается.', metadata={'source': '../input/plus1.txt'}),\n",
      "                      Document(page_content='внешний вид', metadata={'source': '../input/plus1.txt'}),\n",
      "                      Document(page_content='Простота очистки.', metadata={'source': '../input/plus1.txt'}),\n",
      "                      Document(page_content='\\n3. Несмотря на черный цвет - материалы не маркие и раз в неделю, можно просто стереть пыль даже сухой тряпкой.', metadata={'source': '../input/plus1.txt'}),\n",
      "                      Document(page_content='\\n3. Несмотря на черный цвет - материалы не маркие и раз в неделю, можно просто стереть пыль даже сухой тряпкой.', metadata={'source': '../input/plus1.txt'}),\n",
      "                      Document(page_content='- Просто', metadata={'source': '../input/plus1.txt'})]}\n"
     ]
    }
   ],
   "source": [
    "warnings.filterwarnings(\"ignore\")\n",
    "\n",
    "question = \"Расскажи достоинства этой кофемашины\"\n",
    "docs_k = 65\n",
    "\n",
    "from pprint import pprint as pp\n",
    "\n",
    "retriever = vectordb.as_retriever(search_type=\"similarity\", search_kwargs={\"k\": docs_k})#search_type = \"mmr\"\n",
    "\n",
    "template = \"\"\"Ты - полезный ИИ консультант для нашего магазина бытовой техники по продаже кофемашин.\n",
    "Используйте следующие фрагменты контекста (Context), чтобы ответить на вопрос в конце (Question).\n",
    "Если вы не знаете ответа, просто скажите, что не знаете, не пытайтесь придумывать ответ.\n",
    "Сначала убедитесь, что прикрепленный текст имеет отношение к вопросу.\n",
    "Если текст не имеет отношения к вопросу, просто скажите, что текст не имеет отношения.\n",
    "Используйте максимум 15 предложений. Дайте ответ как можно более понятным, рассказывая кратко про все особенности именно данной кофемашины.\n",
    "Context: {context}\n",
    "Question: {question}\"\"\" \n",
    "\n",
    "QA_CHAIN_PROMPT = PromptTemplate.from_template(template)\n",
    "\n",
    "#langchain.debug = True\n",
    "llm = ChatOpenAI(\n",
    "    model_name=\"gpt-3.5-turbo\",\n",
    "    temperature=0,\n",
    "    max_tokens = 250)\n",
    "qa_chain = RetrievalQA.from_chain_type(\n",
    "    llm,\n",
    "    retriever=retriever,\n",
    "    return_source_documents=True,\n",
    "    chain_type_kwargs={\"prompt\": QA_CHAIN_PROMPT},\n",
    "    #chain_type=\"refine\",\n",
    "    #chain_type=\"map_reduce\",\n",
    ")\n",
    "result = qa_chain({\"query\": question})\n",
    "pp(result)\n",
    "langchain.debug = False\n"
   ]
  }
 ],
 "metadata": {
  "kernelspec": {
   "display_name": "shop-agent",
   "language": "python",
   "name": "python3"
  },
  "language_info": {
   "codemirror_mode": {
    "name": "ipython",
    "version": 3
   },
   "file_extension": ".py",
   "mimetype": "text/x-python",
   "name": "python",
   "nbconvert_exporter": "python",
   "pygments_lexer": "ipython3",
   "version": "3.9.18"
  }
 },
 "nbformat": 4,
 "nbformat_minor": 2
}
